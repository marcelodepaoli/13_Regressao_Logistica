{
  "cells": [
    {
      "cell_type": "markdown",
      "metadata": {
        "id": "view-in-github",
        "colab_type": "text"
      },
      "source": [
        "<a href=\"https://colab.research.google.com/github/marcelodepaoli/13_Regressao_Logistica/blob/main/01%20-%20Regress%C3%A3o%20Log%C3%ADstica%20com%20Python.ipynb\" target=\"_parent\"><img src=\"https://colab.research.google.com/assets/colab-badge.svg\" alt=\"Open In Colab\"/></a>"
      ]
    },
    {
      "cell_type": "markdown",
      "metadata": {
        "id": "UpaXVP5ooiMY"
      },
      "source": [
        "#Regressão Logística com Python\n",
        "\n",
        "Iremos trabalhar com o [Titanic Data Set](https://www.kaggle.com/c/titanic) obtido do Kaggle. Este é um conjunto de dados muito famoso e muitas vezes é o primeiro passo de um aluno em machine learning!\n",
        "\n",
        "Tentaremos prever uma classificação: sobrevivência ou falecimento.\n",
        "Vamos começar a compreensão da implementação da regressão logística em Python para classificação.\n",
        "\n",
        "Usaremos uma versão \"semi-limpa\" do conjunto de dados do Titanic, se você usar o conjunto de dados hospedado diretamente no Kaggle, talvez seja necessário fazer algumas limpezas adicionais.\n",
        "\n",
        "##Importar Bibliotecas\n",
        "\n",
        "Vamos importar algumas bibliotecas para começar!"
      ]
    },
    {
      "cell_type": "code",
      "execution_count": null,
      "metadata": {
        "collapsed": true,
        "id": "XWL3LNKboiMe"
      },
      "outputs": [],
      "source": [
        "import numpy as np\n",
        "import pandas as pd\n",
        "import matplotlib.pyplot as plt\n",
        "import seaborn as sns\n",
        "%matplotlib inline"
      ]
    },
    {
      "cell_type": "markdown",
      "metadata": {
        "id": "4Yo-VuZ_oiMg"
      },
      "source": [
        "##Os Dados\n",
        "\n",
        "\n",
        "Vamos começar lendo o arquivo titanic_train.csv em um pandas dataframe."
      ]
    },
    {
      "cell_type": "code",
      "source": [
        "# Esse trecho do código é obrigatório para quem estiver fazendo tudo pelo colab\n",
        "# Caso você esteja utilizando o jupyter pode comentar/apagar\n",
        "#import os\n",
        "#from google.colab import drive\n",
        "\n",
        "#drive.mount('/content/drive')\n",
        "#os.chdir(\"drive/My Drive/Colab Notebooks/IA/13_Regressão_Logística\")\n",
        "#os.listdir()"
      ],
      "metadata": {
        "id": "IoXRsyl_qJdz"
      },
      "execution_count": null,
      "outputs": []
    },
    {
      "cell_type": "code",
      "source": [
        "train = pd.read_csv('titanic_train.csv')\n",
        "train.head()"
      ],
      "metadata": {
        "id": "twfd4Ikg4qzx"
      },
      "execution_count": null,
      "outputs": []
    },
    {
      "cell_type": "markdown",
      "metadata": {
        "id": "LHBsdMj7oiMi"
      },
      "source": [
        "#Exploratory Data Analysis\n",
        "\n",
        "Vamos começar uma análise exploratória de dados! Começaremos verificando os dados ausentes!\n",
        "\n",
        "##Missing Data\n",
        "\n",
        "Podemos usar o seaborn para criar um mapa de calor simples para ver onde estão faltando dados!"
      ]
    },
    {
      "cell_type": "code",
      "execution_count": null,
      "metadata": {
        "id": "RB_65bsloiMj"
      },
      "outputs": [],
      "source": [
        "sns.heatmap(train.isnull(),yticklabels=False,cbar=False,cmap='viridis')"
      ]
    },
    {
      "cell_type": "markdown",
      "metadata": {
        "id": "K9x6HVQfoiMk"
      },
      "source": [
        "Cerca de 20 por cento dos dados de idade estão ausentes. A proporção de Idade ausente é, provavelmente, pequena o suficiente para que uma substituição com alguma forma de inputação fique razoável. Olhando para a coluna Cabine, no entanto, parece que um número excessivo destes dados estão faltando para se obter alguma informação útil com uma análise básica. Provavelmente vamos abandonar essa coluna ou alterá-la para uma outra característica como \"Cabin Known: 1 ou 0\"\n",
        "\n",
        "Vamos continuar visualizando mais alguns dados!"
      ]
    },
    {
      "cell_type": "code",
      "execution_count": null,
      "metadata": {
        "id": "BzV2N0ppoiMl"
      },
      "outputs": [],
      "source": [
        "sns.set_style('whitegrid')\n",
        "sns.countplot(x='Survived',data=train,palette='RdBu_r')"
      ]
    },
    {
      "cell_type": "code",
      "source": [
        "sns.set_style('whitegrid')\n",
        "sns.countplot(x='Survived',hue='Sex',data=train,palette='RdBu_r')"
      ],
      "metadata": {
        "id": "4BCR8i24vhsE"
      },
      "execution_count": null,
      "outputs": []
    },
    {
      "cell_type": "code",
      "source": [
        "sns.set_style('whitegrid')\n",
        "sns.countplot(x='Survived',hue='Pclass',data=train,palette='rainbow')"
      ],
      "metadata": {
        "id": "rvCyUQbkv68r"
      },
      "execution_count": null,
      "outputs": []
    },
    {
      "cell_type": "code",
      "source": [
        "sns.displot(train['Age'].dropna(),kde=True,color='darkred',bins=30)"
      ],
      "metadata": {
        "id": "YUgZeSxkwlKb"
      },
      "execution_count": null,
      "outputs": []
    },
    {
      "cell_type": "code",
      "source": [
        "train['Age'].hist(bins=30,color='darkred',alpha=0.7)"
      ],
      "metadata": {
        "id": "g-0G_h-pxv78"
      },
      "execution_count": null,
      "outputs": []
    },
    {
      "cell_type": "code",
      "source": [
        "sns.countplot(x='SibSp',data=train)"
      ],
      "metadata": {
        "id": "7qFKCdjmyTYd"
      },
      "execution_count": null,
      "outputs": []
    },
    {
      "cell_type": "code",
      "source": [
        "train['Fare'].hist(color='green',bins=40,figsize=(8,4))"
      ],
      "metadata": {
        "id": "T34-siLMy4H7"
      },
      "execution_count": null,
      "outputs": []
    },
    {
      "cell_type": "markdown",
      "metadata": {
        "id": "sFBCVCbtoiMr"
      },
      "source": [
        "##Data Cleaning\n",
        "\n",
        "Queremos preencher os dados de idade ausentes em vez de apenas descartar as linhas de dados de idade ausentes. Uma forma de fazer isso é preenchendo com a idade média de todos os passageiros (imputação).\n",
        "\n",
        "No entanto, podemos ser mais espertos quanto a isso e verificar a idade média por classe de passageiros. Por exemplo:\n"
      ]
    },
    {
      "cell_type": "code",
      "execution_count": null,
      "metadata": {
        "id": "Is2txZS0oiMr"
      },
      "outputs": [],
      "source": [
        "plt.figure(figsize=(12,7))\n",
        "sns.boxplot(x='Pclass',y='Age',data=train,palette='winter')"
      ]
    },
    {
      "cell_type": "markdown",
      "metadata": {
        "id": "Jz2y9RdEoiMr"
      },
      "source": [
        "Podemos ver que os passageiros nas classes mais altas (mais ricos) tendem a ser mais velhos. Usaremos esses valores de idade média para imputar com base em Pclass por Age."
      ]
    },
    {
      "cell_type": "code",
      "execution_count": null,
      "metadata": {
        "id": "AvvUeBIsoiMs"
      },
      "outputs": [],
      "source": [
        "train.groupby('Pclass')['Age'].mean()"
      ]
    },
    {
      "cell_type": "code",
      "source": [
        "def input_age(cols):\n",
        "  Age = cols[0]\n",
        "  Pclass = cols[1]\n",
        "\n",
        "  if pd.isnull(Age):\n",
        "    if Pclass == 1:\n",
        "      return 38.2\n",
        "    elif Pclass == 2:\n",
        "      return 29.9\n",
        "    else:\n",
        "      return 25.1\n",
        "  else:\n",
        "    return Age"
      ],
      "metadata": {
        "id": "OTGsMn2V1pn0"
      },
      "execution_count": null,
      "outputs": []
    },
    {
      "cell_type": "markdown",
      "metadata": {
        "id": "kBF5SrFHoiMs"
      },
      "source": [
        "Aplicando essa função!"
      ]
    },
    {
      "cell_type": "code",
      "execution_count": null,
      "metadata": {
        "id": "2kq8mrpQoiMt"
      },
      "outputs": [],
      "source": [
        "train['Age'] = train[['Age','Pclass']].apply(input_age,axis=1)"
      ]
    },
    {
      "cell_type": "markdown",
      "metadata": {
        "id": "r-d7G4T8oiMt"
      },
      "source": [
        "Verificando o mapa de calor novamente!"
      ]
    },
    {
      "cell_type": "code",
      "execution_count": null,
      "metadata": {
        "id": "9bX3fqmXoiMt"
      },
      "outputs": [],
      "source": [
        "sns.heatmap(train.isnull(),yticklabels=False,cbar=False,cmap='viridis')"
      ]
    },
    {
      "cell_type": "markdown",
      "metadata": {
        "id": "tE8OYnF8oiMu"
      },
      "source": [
        "Excelente! Vamos em frente e remover a coluna Cabin e a linha em Embarked que é NaN."
      ]
    },
    {
      "cell_type": "code",
      "execution_count": null,
      "metadata": {
        "id": "uu0M7xCfoiMu"
      },
      "outputs": [],
      "source": [
        "train.drop('Cabin',axis=1,inplace=True)\n",
        "train.dropna(inplace=True)\n",
        "train.head()"
      ]
    },
    {
      "cell_type": "markdown",
      "metadata": {
        "id": "E4AfbYo9oiMv"
      },
      "source": [
        "##Convertendo Características Categóricas \n",
        "\n",
        "Precisaremos converter características categóricass em variáveis ​​fictícias usando pandas! Caso contrário, nosso algoritmo de aprendizado de máquina não poderá receber diretamente essas características como entradas."
      ]
    },
    {
      "cell_type": "code",
      "execution_count": null,
      "metadata": {
        "id": "0ZlhRydnoiMv"
      },
      "outputs": [],
      "source": [
        "train.info()"
      ]
    },
    {
      "cell_type": "code",
      "source": [
        "sex = pd.get_dummies(train['Sex'],drop_first=True)\n",
        "embark = pd.get_dummies(train['Embarked'],drop_first=True)"
      ],
      "metadata": {
        "id": "loe37_yk6z70"
      },
      "execution_count": null,
      "outputs": []
    },
    {
      "cell_type": "code",
      "source": [
        "train.drop(['Sex','Embarked','Name','Ticket'],axis=1,inplace=True)"
      ],
      "metadata": {
        "id": "S7JpTDEw7axL"
      },
      "execution_count": null,
      "outputs": []
    },
    {
      "cell_type": "code",
      "source": [
        "train = pd.concat([train,sex,embark],axis=1)\n",
        "train.head()"
      ],
      "metadata": {
        "id": "CAA0S2kF76k7"
      },
      "execution_count": null,
      "outputs": []
    },
    {
      "cell_type": "markdown",
      "metadata": {
        "id": "_bkcS4qRoiMw"
      },
      "source": [
        "Excelente! Nossos dados estão prontos para o nosso modelo!\n",
        "\n",
        "#Construindo um Modelo de Regressão Logística\n",
        "\n",
        "Vamos começar dividindo nossos dados em um conjunto de treinamento e um conjunto de teste (há outro arquivo test.csv com o qual você pode brincar caso queira usar todos esses dados para treinamento).\n",
        "\n",
        "##Train Test Split"
      ]
    },
    {
      "cell_type": "code",
      "execution_count": null,
      "metadata": {
        "collapsed": true,
        "id": "aDOcIZjsoiMw"
      },
      "outputs": [],
      "source": [
        "from sklearn.model_selection  import train_test_split"
      ]
    },
    {
      "cell_type": "code",
      "source": [
        "train.columns"
      ],
      "metadata": {
        "id": "c52NO0hm9xp0"
      },
      "execution_count": null,
      "outputs": []
    },
    {
      "cell_type": "code",
      "source": [
        "X = train[['PassengerId', 'Pclass', 'Age', 'SibSp', 'Parch', 'Fare','male', 'Q', 'S']]\n",
        "y = train['Survived']"
      ],
      "metadata": {
        "id": "zs8Dt9YW95cC"
      },
      "execution_count": null,
      "outputs": []
    },
    {
      "cell_type": "code",
      "source": [
        "X_train, X_test, y_train, y_test = train_test_split(X, y, test_size=0.3, random_state=101)"
      ],
      "metadata": {
        "id": "b1JTLaRf97pq"
      },
      "execution_count": null,
      "outputs": []
    },
    {
      "cell_type": "markdown",
      "metadata": {
        "id": "K38yXgkEoiMx"
      },
      "source": [
        "##Treinamento e Prevendo"
      ]
    },
    {
      "cell_type": "code",
      "execution_count": null,
      "metadata": {
        "collapsed": true,
        "id": "YVVBvLemoiMx"
      },
      "outputs": [],
      "source": [
        "from sklearn.linear_model import LogisticRegression"
      ]
    },
    {
      "cell_type": "code",
      "source": [
        "logmodel = LogisticRegression(solver='newton-cg')\n",
        "logmodel.fit(X_train,y_train)"
      ],
      "metadata": {
        "id": "rtbc1JKd_POs"
      },
      "execution_count": null,
      "outputs": []
    },
    {
      "cell_type": "code",
      "source": [
        "predictions = logmodel.predict(X_test)"
      ],
      "metadata": {
        "id": "ysTirdp6_3cc"
      },
      "execution_count": null,
      "outputs": []
    },
    {
      "cell_type": "markdown",
      "metadata": {
        "id": "TzHG4rdLoiMy"
      },
      "source": [
        "Vamos avaliar o modelo!"
      ]
    },
    {
      "cell_type": "markdown",
      "metadata": {
        "id": "5tLDXs8voiMy"
      },
      "source": [
        "##Avaliação"
      ]
    },
    {
      "cell_type": "markdown",
      "metadata": {
        "id": "51XM6UnUoiMy"
      },
      "source": [
        "Podemos verificar precision, recall, f1-score utilizando classification_report!"
      ]
    },
    {
      "cell_type": "code",
      "execution_count": null,
      "metadata": {
        "collapsed": true,
        "id": "qRp0Me_UoiMy"
      },
      "outputs": [],
      "source": [
        "from sklearn.metrics import classification_report"
      ]
    },
    {
      "cell_type": "code",
      "source": [
        "print(classification_report(y_test,predictions))"
      ],
      "metadata": {
        "id": "wLjfZ_3yAYzz"
      },
      "execution_count": null,
      "outputs": []
    },
    {
      "cell_type": "markdown",
      "metadata": {
        "id": "4E-gjsl1oiMz"
      },
      "source": [
        "Não ficou tão ruim! Você pode explorar outras características e o outro arquivo titanic_test.csv, algumas sugestões:\n",
        "\n",
        "* Tente utilizar o título (Dr., Mr., Mrs, etc.) do nome como uma característica\n",
        "* Talvez a letra Cabin possa ser uma característica\n",
        "* Existe alguma informação que você pode obter do bilhete (ticket)?"
      ]
    },
    {
      "cell_type": "code",
      "source": [],
      "metadata": {
        "id": "mbyfK2dFouGf"
      },
      "execution_count": null,
      "outputs": []
    }
  ],
  "metadata": {
    "kernelspec": {
      "display_name": "Python 3",
      "language": "python",
      "name": "python3"
    },
    "language_info": {
      "codemirror_mode": {
        "name": "ipython",
        "version": 3
      },
      "file_extension": ".py",
      "mimetype": "text/x-python",
      "name": "python",
      "nbconvert_exporter": "python",
      "pygments_lexer": "ipython3",
      "version": "3.5.1"
    },
    "colab": {
      "provenance": [],
      "include_colab_link": true
    }
  },
  "nbformat": 4,
  "nbformat_minor": 0
}